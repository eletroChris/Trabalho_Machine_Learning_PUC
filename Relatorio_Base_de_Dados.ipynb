{
 "cells": [
  {
   "cell_type": "markdown",
   "metadata": {},
   "source": [
    "# Relatório da Base de dados\n",
    "\n",
    "#### Grupo 6:  Christiano Araújo; Pedro Belfort; Marcelo Ferreira Alves da Silva; Junio Reis\n",
    "\n",
    "\n",
    "\n"
   ]
  },
  {
   "cell_type": "markdown",
   "metadata": {},
   "source": [
    "## Descrição da Base de Dados\n",
    "\n",
    "Para este trabalho utilizaremos a base de dados **Medidas de Solo** disponível em https://www.kaggle.com/datasets/mohamedmostafa259/soil-measures/data\n",
    "Essa base contém cinco colunas elencadas abaixo: \n",
    "* \"N\":\tTaxa de nitrogênio presente no solo\n",
    "* \"P\":\tTaxa de fósforo presente no solo\n",
    "* \"K\":\tTaxa de potássio presente no solo\n",
    "* \"pH\":\tPH do solo\n",
    "* \"crop\":\tTipo de plantação.\n"
   ]
  },
  {
   "cell_type": "markdown",
   "metadata": {},
   "source": [
    "## Objetivo\n",
    "\n",
    "Buscamos utilizar um modelo de machine learning para determinar qual o melhor tipo de plantação dadas as características do solo.\n",
    "Para isso faremos a comparação dos modelos aprendidos durante o curso e utilizaremos as métricas **F1-score**, **precisão**, **recall** e **acurácia** para determinar o modelo mais eficiente.\n"
   ]
  }
 ],
 "metadata": {
  "language_info": {
   "name": "python"
  }
 },
 "nbformat": 4,
 "nbformat_minor": 2
}
