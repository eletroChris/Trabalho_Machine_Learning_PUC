{
 "cells": [
  {
   "cell_type": "markdown",
   "metadata": {},
   "source": [
    "# Relatório Final\n",
    "\n",
    "#### Grupo 6:  Christiano Araújo; Pedro Belfort; Marcelo Ferreira Alves da Silva; Junio Reis\n",
    "\n",
    "\n",
    "\n"
   ]
  }
 ],
 "metadata": {
  "language_info": {
   "name": "python"
  }
 },
 "nbformat": 4,
 "nbformat_minor": 2
}
